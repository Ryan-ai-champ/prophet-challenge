{
"cells": [
{
"cell_type": "markdown",
"metadata": {},
"source": [
    "# MercadoLibre Growth Analysis\n",
    "\n",
    "This notebook analyzes MercadoLibre's financial and user data to help drive company growth. We'll analyze Google search traffic patterns and their relationship with stock price movements, and create time series forecasts.\n",
    "\n",
    "## Overview\n",
    "- Find unusual patterns in hourly Google search traffic\n",
    "- Mine the search traffic data for seasonality\n",
    "- Relate the search traffic to stock price patterns\n",
    "- Create a time series model with Prophet"
]
},
{
"cell_type": "markdown",
"metadata": {},
"source": [
    "## Import Required Libraries"
]
},
{
"cell_type": "code",
"execution_count": null,
"metadata": {},
"outputs": [],
"source": [
    "import pandas as pd\n",
    "import numpy as np\n",
    "import holoviews as hv\n",
    "import hvplot.pandas\n",
    "from prophet import Prophet\n",
    "import datetime as dt\n",
    "%matplotlib inline"
]
},
{
"cell_type": "markdown",
"metadata": {},
"source": [
    "## Step 1: Find Unusual Patterns in Hourly Google Search Traffic\n",
    "\n",
    "Analyze if the Google search traffic for MercadoLibre shows any unusual patterns, particularly around the time of the company's financial events."
]
},
{
"cell_type": "code",
"execution_count": null,
"metadata": {},
"outputs": [],
"source": [
    "# Read the search data into a DataFrame\n",
    "\n",
    "# Slice the data to May 2020\n",
    "\n",
    "# Calculate total search traffic for May 2020\n",
    "\n",
    "# Calculate the monthly median across all months\n",
    "\n",
    "# Compare May 2020 to the overall monthly median"
]
},
{
"cell_type": "markdown",
"metadata": {},
"source": [
    "## Step 2: Mine the Search Traffic Data for Seasonality\n",
    "\n",
    "Analyze search traffic data to identify predictable seasonal patterns of interest in the company."
]
},
{
"cell_type": "code",
"execution_count": null,
"metadata": {},
"outputs": [],
"source": [
    "# Group search data by hour of day and plot\n",
    "\n",
    "# Group search data by day of week and plot\n",
    "\n",
    "# Group search data by week of year and plot"
]
},
{
"cell_type": "markdown",
"metadata": {},
"source": [
    "## Step 3: Relate the Search Traffic to Stock Price Patterns\n",
    "\n",
    "Investigate the relationship between search data and stock price, particularly during the first half of 2020."
]
},
{
"cell_type": "code",
"execution_count": null,
"metadata": {},
"outputs": [],
"source": [
    "# Read and plot stock price data\n",
    "\n",
    "# Concatenate stock price data with search data\n",
    "\n",
    "# Create lagged search trends\n",
    "\n",
    "# Calculate stock volatility\n",
    "\n",
    "# Calculate hourly stock return"
]
},
{
"cell_type": "markdown",
"metadata": {},
"source": [
    "## Step 4: Create a Time Series Model with Prophet\n",
    "\n",
    "Create and analyze a time series model to forecast patterns in the hourly search data."
]
},
{
"cell_type": "code",
"execution_count": null,
"metadata": {},
"outputs": [],
"source": [
    "# Prepare the data for Prophet\n",
    "\n",
    "# Create and fit the Prophet model\n",
    "\n",
    "# Make future predictions\n",
    "\n",
    "# Plot the forecast\n",
    "\n",
    "# Analyze forecast components"
]
}
],
"metadata": {
"kernelspec": {
"display_name": "Python 3",
"language": "python",
"name": "python3"
},
"language_info": {
"codemirror_mode": {
    "name": "ipython",
    "version": 3
},
"file_extension": ".py",
"mimetype": "text/x-python",
"name": "python",
"nbconvert_exporter": "python",
"pygments_lexer": "ipython3",
"version": "3.7.7"
}
},
"nbformat": 4,
"nbformat_minor": 4
}

